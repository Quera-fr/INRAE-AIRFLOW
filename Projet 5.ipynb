{
 "cells": [
  {
   "cell_type": "markdown",
   "metadata": {},
   "source": [
    "## **Projet 5 : Extraction de Questions-Réponses depuis un Document avec FastAPI & Ollama**  \n",
    "\n",
    "### 🎯 **Objectif**  \n",
    "L’objectif de ce projet est d’**automatiser la génération de questions-réponses** en utilisant un modèle hébergé sur **Ollama** via une API construite avec **FastAPI**.  \n",
    "\n",
    "Nous allons :  \n",
    "✅ **Créer une API FastAPI permettant d’envoyer un fichier Markdown (`data.md`)**  \n",
    "✅ **Faire analyser ce fichier par un modèle hébergé sur Ollama**  \n",
    "✅ **Générer 5 questions et 5 réponses pertinentes à partir du contenu du fichier**  \n",
    "✅ **Stocker les questions-réponses dans un fichier `data.jsonl` au format fine-tuning**  \n"
   ]
  },
  {
   "cell_type": "markdown",
   "metadata": {},
   "source": []
  }
 ],
 "metadata": {
  "language_info": {
   "name": "python"
  }
 },
 "nbformat": 4,
 "nbformat_minor": 2
}
