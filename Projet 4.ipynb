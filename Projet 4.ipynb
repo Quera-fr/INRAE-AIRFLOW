{
 "cells": [
  {
   "cell_type": "markdown",
   "metadata": {},
   "source": [
    "## **Projet 4 : Automatisation de la Conversion de PDF avec Airflow**  \n",
    "\n",
    "### 🎯 **Objectif**  \n",
    "L’objectif de ce projet est d’**automatiser la conversion de fichiers PDF** en utilisant **Apache Airflow** et la bibliothèque **Marker**.  \n",
    "\n",
    "Nous allons :  \n",
    "✅ **Surveiller un dossier (`data/documents/`) pour détecter de nouveaux fichiers PDF**  \n",
    "✅ **Vérifier si un fichier a déjà été converti dans `data/convert_documents/`**  \n",
    "✅ **Convertir automatiquement les nouveaux fichiers PDF manquants**  \n",
    "✅ **Gérer et exécuter ces tâches de manière automatique avec Airflow**  \n",
    "\n",
    "---\n",
    "\n",
    "### **🛠️ Étapes du Projet**\n",
    "\n",
    "📌 **1. Définition du DAG (Directed Acyclic Graph) Airflow**  \n",
    "Un **DAG Airflow** va orchestrer l'exécution des tâches. Il vérifiera régulièrement les fichiers à convertir.  \n",
    "\n",
    "📌 **2. Vérification des fichiers à convertir**  \n",
    "Une fonction va comparer les fichiers présents dans **`data/documents/`** avec ceux dans **`data/convert_documents/`**.  \n",
    "\n",
    "📌 **3. Conversion des fichiers PDF**  \n",
    "Si un fichier est détecté dans `data/documents/` mais absent de `convert_documents/`, alors une commande **Marker** sera exécutée pour le convertir.  \n",
    "\n",
    "📌 **4. Exécution automatique des tâches avec Airflow**  \n",
    "- **Une tâche (`task_check_files`) vérifie les fichiers.**  \n",
    "- **Une tâche (`task_convert_file`) exécute la conversion si nécessaire avec un bashOpérator**  \n",
    "- **Si tout est déjà converti, une autre tâche (`task_end_task`) s'exécute pour indiquer la fin.**  \n",
    "\n",
    "Commande du bashOpérator\n",
    "    `bash_command=\"bash '/root/airflow/data/waiting.sh'\"`\n",
    "\n",
    "---\n",
    "\n",
    "### **📂 Structure du Projet**  \n",
    "```bash\n",
    "📁 airflow_project/\n",
    "│── 📁 data/\n",
    "│   ├── 📁 documents/          # Dossier contenant les fichiers PDF originaux\n",
    "│   ├── 📁 convert_documents/  # Dossier contenant les fichiers convertis\n",
    "│   ├── 📝 waiting.sh          # Script temporaire exécutant la conversion\n",
    "│── 📄 dag_convert_pdf.py      # Script Airflow orchestrant le processus\n",
    "│── 📄 requirements.txt        # Dépendances requises pour Airflow\n",
    "│── 📄 README.md               # Explication du projet\n",
    "```"
   ]
  },
  {
   "cell_type": "code",
   "execution_count": null,
   "metadata": {},
   "outputs": [],
   "source": []
  },
  {
   "cell_type": "code",
   "execution_count": null,
   "metadata": {},
   "outputs": [],
   "source": []
  },
  {
   "cell_type": "code",
   "execution_count": null,
   "metadata": {},
   "outputs": [],
   "source": []
  },
  {
   "cell_type": "code",
   "execution_count": null,
   "metadata": {},
   "outputs": [],
   "source": []
  },
  {
   "cell_type": "code",
   "execution_count": null,
   "metadata": {},
   "outputs": [],
   "source": []
  },
  {
   "cell_type": "code",
   "execution_count": null,
   "metadata": {},
   "outputs": [],
   "source": []
  },
  {
   "cell_type": "code",
   "execution_count": null,
   "metadata": {},
   "outputs": [],
   "source": [
    "!pip install marker-pdf"
   ]
  },
  {
   "cell_type": "code",
   "execution_count": 3,
   "metadata": {},
   "outputs": [
    {
     "name": "stdout",
     "output_type": "stream",
     "text": [
      "Loaded layout model s3://layout/2025_02_18 on device cpu with dtype torch.float32\n",
      "Loaded texify model s3://texify/2025_02_18 on device cpu with dtype torch.float32\n",
      "Loaded recognition model s3://text_recognition/2025_02_18 on device cpu with dtype torch.float32\n",
      "Loaded table recognition model s3://table_recognition/2025_02_18 on device cpu with dtype torch.float32\n",
      "Loaded detection model s3://text_detection/2025_02_28 on device cpu with dtype torch.float32\n",
      "Loaded detection model s3://inline_math_detection/2025_02_24 on device cpu with dtype torch.float32\n",
      "Saved markdown to C:\\Users\\Quera\\Desktop\\INRAE-Llama3-main\\data\\2017-Scrum-Guide-French\n",
      "Total time: 49.729666233062744\n"
     ]
    },
    {
     "name": "stderr",
     "output_type": "stream",
     "text": [
      "\n",
      "Recognizing layout:   0%|          | 0/4 [00:00<?, ?it/s]\n",
      "Recognizing layout:  25%|██▌       | 1/4 [00:08<00:25,  8.46s/it]\n",
      "Recognizing layout:  50%|█████     | 2/4 [00:20<00:21, 10.82s/it]\n",
      "Recognizing layout:  75%|███████▌  | 3/4 [00:32<00:11, 11.05s/it]\n",
      "Recognizing layout: 100%|██████████| 4/4 [00:38<00:00,  9.14s/it]\n",
      "Recognizing layout: 100%|██████████| 4/4 [00:38<00:00,  9.62s/it]\n",
      "\n",
      "Running OCR Error Detection:   0%|          | 0/6 [00:00<?, ?it/s]\n",
      "Running OCR Error Detection:  17%|█▋        | 1/6 [00:00<00:04,  1.15it/s]\n",
      "Running OCR Error Detection:  33%|███▎      | 2/6 [00:01<00:03,  1.11it/s]\n",
      "Running OCR Error Detection:  50%|█████     | 3/6 [00:02<00:02,  1.06it/s]\n",
      "Running OCR Error Detection:  67%|██████▋   | 4/6 [00:03<00:01,  1.03it/s]\n",
      "Running OCR Error Detection:  83%|████████▎ | 5/6 [00:04<00:00,  1.20it/s]\n",
      "Running OCR Error Detection: 100%|██████████| 6/6 [00:04<00:00,  1.65it/s]\n",
      "Running OCR Error Detection: 100%|██████████| 6/6 [00:04<00:00,  1.32it/s]\n",
      "\n",
      "Detecting bboxes: 0it [00:00, ?it/s]\n",
      "Detecting bboxes: 0it [00:00, ?it/s]\n",
      "\n",
      "Detecting bboxes: 0it [00:00, ?it/s]\n",
      "Detecting bboxes: 0it [00:00, ?it/s]\n",
      "\n",
      "Recognizing tables:   0%|          | 0/1 [00:00<?, ?it/s]\n",
      "Recognizing tables: 100%|██████████| 1/1 [00:01<00:00,  1.87s/it]\n",
      "Recognizing tables: 100%|██████████| 1/1 [00:01<00:00,  1.87s/it]\n"
     ]
    }
   ],
   "source": [
    "!marker_single C:\\Users\\Quera\\Desktop\\INRAE-Llama3-main\\2017-Scrum-Guide-French.pdf --output_dir C:\\Users\\Quera\\Desktop\\INRAE-Llama3-main\\data"
   ]
  }
 ],
 "metadata": {
  "kernelspec": {
   "display_name": ".llama_env",
   "language": "python",
   "name": "python3"
  },
  "language_info": {
   "codemirror_mode": {
    "name": "ipython",
    "version": 3
   },
   "file_extension": ".py",
   "mimetype": "text/x-python",
   "name": "python",
   "nbconvert_exporter": "python",
   "pygments_lexer": "ipython3",
   "version": "3.11.8"
  }
 },
 "nbformat": 4,
 "nbformat_minor": 2
}
